{
 "metadata": {
  "name": "",
  "signature": "sha256:6d761d6fecd890b0de0341546563d4b58715c27b2aa94c4ecb577d52eaf83a28"
 },
 "nbformat": 3,
 "nbformat_minor": 0,
 "worksheets": [
  {
   "cells": [
    {
     "cell_type": "markdown",
     "metadata": {},
     "source": [
      "### Setup\n",
      "\n",
      "Import the necessary libraries. NetCDF for creating and \n",
      "manipulating the netcdf file, and numpy for operations on \n",
      "the data."
     ]
    },
    {
     "cell_type": "code",
     "collapsed": false,
     "input": [
      "import netCDF4     \n",
      "import numpy as np"
     ],
     "language": "python",
     "metadata": {},
     "outputs": []
    },
    {
     "cell_type": "markdown",
     "metadata": {},
     "source": [
      "Now, start by opening the file."
     ]
    },
    {
     "cell_type": "code",
     "collapsed": false,
     "input": [
      "try:\n",
      "    ncfile.close()\n",
      "except:\n",
      "    pass\n",
      "ncfile = netCDF4.Dataset(\"new-tem-input.nc\", mode=\"w\", format='NETCDF4')\n",
      "print ncfile"
     ],
     "language": "python",
     "metadata": {},
     "outputs": []
    },
    {
     "cell_type": "markdown",
     "metadata": {},
     "source": [
      "### Create Dimensions\n",
      "Setup the dimensions for the file. Basically a data \"cube\" of time and (Y,X) position in the grid."
     ]
    },
    {
     "cell_type": "code",
     "collapsed": false,
     "input": [
      "# Dimensions for the file.\n",
      "Y = ncfile.createDimension('X', 10)\n",
      "X = ncfile.createDimension('Y', 10)\n",
      "time_dim = ncfile.createDimension('time', None) # unlimited axis (can be appended to).\n",
      "\n",
      "for dim in ncfile.dimensions.items():\n",
      "    print dim"
     ],
     "language": "python",
     "metadata": {},
     "outputs": []
    },
    {
     "cell_type": "markdown",
     "metadata": {},
     "source": [
      "### Create Coordinate Variables\n"
     ]
    },
    {
     "cell_type": "code",
     "collapsed": true,
     "input": [
      "# Coordinate Variables\n",
      "X = ncfile.createVariable('X', np.int, ('X',))\n",
      "Y = ncfile.createVariable('Y', np.int, ('Y',))\n",
      "lat = ncfile.createVariable('lat', np.float32, ('Y', 'X',))\n",
      "lon = ncfile.createVariable('lon', np.float32, ('Y', 'X',))"
     ],
     "language": "python",
     "metadata": {},
     "outputs": []
    },
    {
     "cell_type": "markdown",
     "metadata": {},
     "source": [
      "### Create Data Variables\n",
      "\n",
      "#### Climate"
     ]
    },
    {
     "cell_type": "code",
     "collapsed": false,
     "input": [
      "co2 = ncfile.createVariable('co2', np.float32, ('time')) # actually year\n",
      "temp_air = ncfile.createVariable('tair', np.float32, ('time', 'Y', 'X',))\n",
      "precip = ncfile.createVariable('precip', np.float32, ('time', 'Y', 'X',))\n",
      "nirr = ncfile.createVariable('nirr', np.float32, ('time', 'Y', 'X',))\n",
      "vapor_press = ncfile.createVariable('vapor_press', np.float32, ('time', 'Y', 'X',))"
     ],
     "language": "python",
     "metadata": {},
     "outputs": []
    },
    {
     "cell_type": "markdown",
     "metadata": {},
     "source": [
      "#### Soil\n",
      "Here is a quick overview of how soil is imagined:\n",
      "\n",
      "    (snow)\n",
      "    (moss) green and brown? maybe green is pfts?\n",
      "    =========================\n",
      "    organic layer\n",
      "    ---------\n",
      "    0..n shallow (fibric)\n",
      "    ---------\n",
      "    0..n layers deep (humic)\n",
      "    =========================\n",
      "    Mineral layer\n",
      "    (top) bottom of organic to -25cm depth\n",
      "    ----------\n",
      "    (bottom) from -25cm to -100cm or to bedrock"
     ]
    },
    {
     "cell_type": "code",
     "collapsed": false,
     "input": [
      "# Data will come from tifs on Helene's computer\n",
      "# Read as \"% of material that is sand in the upper mineral layer\"\n",
      "sand_top = ncfile.createVariable('sand_top', np.float32, ('Y','X')) \n",
      "sand_bottom = ncfile.createVariable('sand_bottom', np.float32, ('Y','X')) \n",
      "silt_top = ncfile.createVariable('silt_top', np.float32, ('Y','X')) \n",
      "silt_bottom = ncfile.createVariable('silt_bottom', np.float32, ('Y','X')) \n",
      "clay_top = ncfile.createVariable('clay_top', np.float32, ('Y','X')) \n",
      "clay_bottom = ncfile.createVariable('clay_bottom', np.float32, ('Y','X')) "
     ],
     "language": "python",
     "metadata": {},
     "outputs": []
    },
    {
     "cell_type": "code",
     "collapsed": false,
     "input": [
      "# BOOLEAN - 0 is dry, 1 is wet (poorly drained)\n",
      "# 1km res, from cost function of slope (defined on HYDRO unit, level 8)\n",
      "drainage_type = ncfile.createVariable('drainage_type', np.int, ('Y', 'X'))\n",
      "\n",
      "# Vegetation\n",
      "veg_class = ncfile.createVariable('veg_class', np.int, ('Y', 'X',))\n",
      "\n",
      "# FIRE\n",
      "\n",
      "# 1) for eq and sp we need a fire recurrance interval\n",
      "# varies with space and *NOT* time\n",
      "# generated by some statictical munging of the SNAP Fire History tif files\n",
      "# will result in a single band tiff\n",
      "fri = ncfile.createVariable('fri', np.int, ('Y','X'))\n",
      "\n",
      "# 2) for tr and sc FRI is based on ALF outputs or historical records (for AK from 1952)\n",
      "# year_of_burn - explicit replacement for FRI in tr and sc (maybe from ALF)\n",
      "fire_year_vector = ncfile.createVLType(np.int, 'fire_year_vector')\n",
      "fire_years = ncfile.createVariable('fire_years', fire_year_vector, ('Y','X'))\n",
      "\n",
      "# Size - measured in area of burn varies with space and time, but time is \n",
      "# encoded in this vector.\n",
      "fire_sizes = ncfile.createVariable('fire_sizes', fire_year_vector, ('Y','X'))"
     ],
     "language": "python",
     "metadata": {},
     "outputs": []
    },
    {
     "cell_type": "markdown",
     "metadata": {},
     "source": [
      "> NOTE: As of conversation with Ruth, Helene and Tobey, 8/28/2015, \n",
      "we decided to add to this slightly\n",
      ">\n",
      "> Basically during the large refactor process, the way the fire module\n",
      "> is reshaping, it might make sense to do add a \"fire_month\" vector\n",
      "> that holds the month the fire should occur. This enables getting\n",
      "> rid of the \"season\" classification previously used in the model.\n",
      "> Stay tuned..."
     ]
    },
    {
     "cell_type": "markdown",
     "metadata": {},
     "source": [
      "### Populate with random sample data\n",
      "Start with the basic grid coordinates. Basically just index values."
     ]
    },
    {
     "cell_type": "code",
     "collapsed": false,
     "input": [
      "nX = len(X); nY = len(Y); ntimes = 100\n",
      "X[:] = range(0, nX)\n",
      "Y[:] = range(0, nY) "
     ],
     "language": "python",
     "metadata": {},
     "outputs": []
    },
    {
     "cell_type": "markdown",
     "metadata": {},
     "source": [
      "Now fill in some sample lat and lon values for the grid."
     ]
    },
    {
     "cell_type": "code",
     "collapsed": false,
     "input": [
      "print len(np.linspace(63.5, 65.2, 10))\n",
      "print lat.shape\n",
      "ncfile.close()\n",
      "\n",
      "!ncdump -h \"new-tem-input.nc\"\n"
     ],
     "language": "python",
     "metadata": {},
     "outputs": []
    },
    {
     "cell_type": "code",
     "collapsed": false,
     "input": [
      "print lat\n",
      "# lat[:] = np.linspace(63.5, 65.2, 10)\n",
      "# lon[:] = np.linspace(-147.5, -145.9, 10)\n"
     ],
     "language": "python",
     "metadata": {},
     "outputs": []
    },
    {
     "cell_type": "code",
     "collapsed": false,
     "input": [
      "co2[:] = np.linspace(350, 400, ntimes)"
     ],
     "language": "python",
     "metadata": {},
     "outputs": []
    },
    {
     "cell_type": "code",
     "collapsed": false,
     "input": [
      "temp_air[:] = np.random.uniform(low=-20.0, high=35.0, size=(ntimes, nlats, nlons))\n"
     ],
     "language": "python",
     "metadata": {},
     "outputs": []
    },
    {
     "cell_type": "markdown",
     "metadata": {},
     "source": [
      "## Notes\n",
      "\n",
      "We will likely want seperate files for\n",
      "\n",
      "* soil (and drainage)\n",
      "* climate\n",
      "* fire \n",
      "* veg\n",
      "* run mask\n",
      "\n",
      "Having seperate files introduces some overhead in terms of \n",
      "keeping spatial information with each file, but for now we feel \n",
      "\n",
      "\n",
      "A valid input set requires that each file has data for the same grid cells.\n",
      "\n",
      "\n"
     ]
    },
    {
     "cell_type": "markdown",
     "metadata": {},
     "source": [
      "most importatn outputs\n",
      "vegC accumulated\n",
      "NPP\n",
      "active layerdepth\n",
      "soil temperature\n",
      "\n",
      "\n"
     ]
    },
    {
     "cell_type": "code",
     "collapsed": false,
     "input": [],
     "language": "python",
     "metadata": {},
     "outputs": []
    }
   ],
   "metadata": {}
  }
 ]
}