{
 "metadata": {
  "name": "",
  "signature": "sha256:a1226018d01c1b7ea103f9affdd3ee9dc136a4383954380152f767fb91344517"
 },
 "nbformat": 3,
 "nbformat_minor": 0,
 "worksheets": [
  {
   "cells": [
    {
     "cell_type": "markdown",
     "metadata": {},
     "source": [
      "## Setup File Structure\n"
     ]
    },
    {
     "cell_type": "code",
     "collapsed": false,
     "input": [
      "import netCDF4     \n",
      "import numpy as np\n",
      "\n",
      "try:\n",
      "    ncfile.close()\n",
      "except:\n",
      "    pass\n",
      "ncfile = netCDF4.Dataset(\"new-dvmdostem-output.nc\", mode=\"w\", format='NETCDF4')\n",
      "\n",
      "# Dimensions for the file.\n",
      "time_dim = ncfile.createDimension('time', None) # unlimited axis (can be appended to).\n",
      "community_type = ncfile.createDimension('community_type', 10)\n",
      "pft = ncfile.createDimension('pft', 10)\n",
      "y = ncfile.createDimension('x', 10)\n",
      "x = ncfile.createDimension('y', 10)\n",
      "\n",
      "# Coordinate Variables\n",
      "x = ncfile.createVariable('x', np.int, ('x',))  # x,y are pixel coords in 2D (spatial?) image\n",
      "y = ncfile.createVariable('y', np.int, ('y',))\n",
      "community_type = ncfile.createVariable('community_type', np.int, ('y','x'))\n",
      "\n",
      "# Spatial Reference Variables?\n",
      "lat = ncfile.createVariable('lat', np.float32, ('y', 'x',))\n",
      "lon = ncfile.createVariable('lon', np.float32, ('y', 'x',))\n",
      "\n",
      "# Add space/time variables...\n",
      "grow_start = ncfile.createVariable('grow_start', np.int, ('time', 'y', 'x',)) # day of year\n",
      "grow_end = ncfile.createVariable('grow_end', np.int, ('time', 'y', 'x'))\n",
      "\n",
      "org_shlw_thickness = ncfile.createVariable('org_shlw_thickness', np.float32, ('time', 'y', 'x'))\n",
      "# Need to add all these:\n",
      "# 1                         //OSHLWDZ     - (23) shallow fibrous organic soil horizon thickness (m)\n",
      "# 1                         //ODEEPDZ     - (24) deep amorphous organic soil horizon thickness (m)\n",
      "# 1                         //MINEADZ     - (25) upper minearal soil horizon thickness (m)\n",
      "# 1                         //MINEBDZ     - (26) middel mineral soil horizon thickness (m)\n",
      "# 1                         //MINECDZ     - (27) lower mineral soil horizon thickness (m)\n",
      "# 1                         //OSHLWC      - (28) SOM C in firbrous soil horizon  (gC/m2)\n",
      "# 1                         //ODEEPC      - (29) SOM C in amorphous soil horizon  (gC/m2)\n",
      "# 1                         //MINEAC      - (30) SOM C in upper mineral soil horizon  (gC/m2)\n",
      "# 1                         //MINEBC      - (31) SOM C in middle mineral soil horizon  (gC/m2)\n",
      "# 1                         //MINECC      - (32) SOM C in lower mineral soil horizon  (gC/m2)\n",
      "# 1                         //ORGN        - (33) total soil organic N (gN/m2)\n",
      "# 2                         //AVLN        - (35) total soil mineral N  (gN/m2)\n",
      "\n",
      "# Add more complicated time/cmt type/PFT/Y/X variables...\n",
      "veg_fraction = ncfile.createVariable('veg_fraction', np.float32, ('time','community_type','pft','y','x'))\n",
      "vegc = ncfile.createVariable('vegc', np.float64, ('time','community_type','pft','y','x'))\n",
      "# Need to add all these:\n",
      "#     1                         //VEGFRAC     - (3) each pft's land coverage fraction (m2/m2)\n",
      "#     1                         //VEGAGE      - (4) each pft's age (years)\n",
      "#     2                         //LAI         - (5) each pft's LAI (m2/m2)\n",
      "#     2                         //VEGC        - (6) each pft's total veg. biomass C (gC/m2)\n",
      "#     2                         //LEAFC       - (7) each pft's leaf biomass C (gC/m2)\n",
      "#     2                         //STEMC       - (8) each pft's stem biomass C (gC/m2)\n",
      "#     2                         //ROOTC       - (9) each pft's root biomass C (gC/m2)\n",
      "#     2                         //VEGN        - (10) each pft's total veg. biomass N  (gC/m2)\n",
      "#     2                         //LABN        - (11) each pft's labile N (gN/m2)\n",
      "#     2                         //LEAFN       - (12) each pft's leaf structural N (gN/m2)\n",
      "#     2                         //STEMN       - (13) each pft's stem structural N (gN/m2)\n",
      "\n",
      "\n",
      "# Add some random data to the vegC variable so we can check it\n",
      "# out with ncview and see if the dimensions \"make sense\"\n",
      "vegc[:,:,:,:,:] = np.reshape(np.random.uniform(0, 1, 40000), (4,10,10,10,10))\n",
      "# vegc[time, cmt, pft, y, x]\n",
      "print \"NetCDF File Dimensions:\"\n",
      "for dim in ncfile.dimensions.items():\n",
      "    print \"   -->\", dim\n",
      "\n",
      "ncfile.close()\n",
      "\n",
      "print \"\"\n",
      "\n",
      "!ncdump -h new-dvmdostem-output.nc"
     ],
     "language": "python",
     "metadata": {},
     "outputs": []
    },
    {
     "cell_type": "markdown",
     "metadata": {},
     "source": []
    },
    {
     "cell_type": "code",
     "collapsed": false,
     "input": [],
     "language": "python",
     "metadata": {},
     "outputs": []
    },
    {
     "cell_type": "markdown",
     "metadata": {},
     "source": []
    },
    {
     "cell_type": "code",
     "collapsed": false,
     "input": [],
     "language": "python",
     "metadata": {},
     "outputs": []
    },
    {
     "cell_type": "code",
     "collapsed": false,
     "input": [],
     "language": "python",
     "metadata": {},
     "outputs": []
    },
    {
     "cell_type": "code",
     "collapsed": false,
     "input": [],
     "language": "python",
     "metadata": {},
     "outputs": []
    },
    {
     "cell_type": "code",
     "collapsed": false,
     "input": [],
     "language": "python",
     "metadata": {},
     "outputs": []
    }
   ],
   "metadata": {}
  }
 ]
}